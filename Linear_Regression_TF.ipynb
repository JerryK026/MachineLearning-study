{
  "nbformat": 4,
  "nbformat_minor": 0,
  "metadata": {
    "colab": {
      "name": "Linear Regression TF",
      "provenance": [],
      "collapsed_sections": [],
      "authorship_tag": "ABX9TyNHXWzLDXuArsNd1mvXu/xP",
      "include_colab_link": true
    },
    "kernelspec": {
      "name": "python3",
      "display_name": "Python 3"
    }
  },
  "cells": [
    {
      "cell_type": "markdown",
      "metadata": {
        "id": "view-in-github",
        "colab_type": "text"
      },
      "source": [
        "<a href=\"https://colab.research.google.com/github/JerryK026/MachineLearning-study/blob/master/Linear_Regression_TF.ipynb\" target=\"_parent\"><img src=\"https://colab.research.google.com/assets/colab-badge.svg\" alt=\"Open In Colab\"/></a>"
      ]
    },
    {
      "cell_type": "code",
      "metadata": {
        "id": "HMrW6-f2m38v",
        "colab_type": "code",
        "colab": {}
      },
      "source": [
        "import tensorflow as tf"
      ],
      "execution_count": 1,
      "outputs": []
    },
    {
      "cell_type": "code",
      "metadata": {
        "id": "YkdoppxFnJpR",
        "colab_type": "code",
        "colab": {}
      },
      "source": [
        "# input_data\n",
        "x_data = [1., 2., 3., 4.]\n",
        "# real data\n",
        "y_data = [1., 3., 5., 7.]"
      ],
      "execution_count": 2,
      "outputs": []
    },
    {
      "cell_type": "code",
      "metadata": {
        "id": "HKZYZQ2snPUB",
        "colab_type": "code",
        "colab": {}
      },
      "source": [
        "W = tf.Variable([-3.0])"
      ],
      "execution_count": 9,
      "outputs": []
    },
    {
      "cell_type": "code",
      "metadata": {
        "id": "0X5sZfuhnPlf",
        "colab_type": "code",
        "colab": {
          "base_uri": "https://localhost:8080/",
          "height": 562
        },
        "outputId": "5546ba2d-9512-4f56-e4b7-dc0cb4bc516e"
      },
      "source": [
        "print('step  |  cost       |  W')\n",
        "for step in range(300):\n",
        "  hypothesis = W * x_data\n",
        "  # reduce_mean은 차원을 제거하고 평균 scala를 반환한다.\n",
        "  cost = tf.reduce_mean(tf.square(hypothesis - y_data))\n",
        "2\n",
        "  # learning rate\n",
        "  alpha = 0.01\n",
        "  gradiente = tf.reduce_mean(tf.multiply(tf.multiply(W, x_data) - y_data, x_data))\n",
        "  descent = W - tf.multiply(alpha, gradiente)\n",
        "  W.assign(descent)\n",
        "\n",
        "  if step % 10 == 0:\n",
        "    print('{:5} | {:10.4f} | {:10.6f}'.format(step, cost.numpy(), W.numpy()[0]))"
      ],
      "execution_count": 11,
      "outputs": [
        {
          "output_type": "stream",
          "text": [
            "step  |  cost       |  W\n",
            "    0 | 47601.0000 | -72.025002\n",
            "   10 | 10010.5137 | -32.127029\n",
            "   20 |  2105.3206 | -13.830526\n",
            "   30 |   442.8757 |  -5.440072\n",
            "   40 |    93.2674 |  -1.592358\n",
            "   50 |    19.7455 |   0.172135\n",
            "   60 |     4.2841 |   0.981301\n",
            "   70 |     1.0325 |   1.352370\n",
            "   80 |     0.3488 |   1.522536\n",
            "   90 |     0.2050 |   1.600571\n",
            "  100 |     0.1747 |   1.636356\n",
            "  110 |     0.1684 |   1.652767\n",
            "  120 |     0.1670 |   1.660292\n",
            "  130 |     0.1667 |   1.663743\n",
            "  140 |     0.1667 |   1.665326\n",
            "  150 |     0.1667 |   1.666052\n",
            "  160 |     0.1667 |   1.666385\n",
            "  170 |     0.1667 |   1.666537\n",
            "  180 |     0.1667 |   1.666607\n",
            "  190 |     0.1667 |   1.666639\n",
            "  200 |     0.1667 |   1.666654\n",
            "  210 |     0.1667 |   1.666661\n",
            "  220 |     0.1667 |   1.666664\n",
            "  230 |     0.1667 |   1.666665\n",
            "  240 |     0.1667 |   1.666666\n",
            "  250 |     0.1667 |   1.666666\n",
            "  260 |     0.1667 |   1.666666\n",
            "  270 |     0.1667 |   1.666666\n",
            "  280 |     0.1667 |   1.666666\n",
            "  290 |     0.1667 |   1.666666\n"
          ],
          "name": "stdout"
        }
      ]
    },
    {
      "cell_type": "code",
      "metadata": {
        "id": "qzrTjv_AG__-",
        "colab_type": "code",
        "colab": {
          "base_uri": "https://localhost:8080/",
          "height": 34
        },
        "outputId": "335f8d90-44e6-4ae4-a771-8bbebebc6e16"
      },
      "source": [
        "b = tf.Variable(0.5)\n",
        "b.numpy()"
      ],
      "execution_count": 15,
      "outputs": [
        {
          "output_type": "execute_result",
          "data": {
            "text/plain": [
              "0.5"
            ]
          },
          "metadata": {
            "tags": []
          },
          "execution_count": 15
        }
      ]
    }
  ]
}